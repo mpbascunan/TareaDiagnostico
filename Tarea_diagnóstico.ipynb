{
  "nbformat": 4,
  "nbformat_minor": 0,
  "metadata": {
    "colab": {
      "name": "Tarea diagnóstico.ipynb",
      "provenance": [],
      "collapsed_sections": [],
      "toc_visible": true
    },
    "kernelspec": {
      "name": "python3",
      "display_name": "Python 3"
    },
    "language_info": {
      "name": "python"
    }
  },
  "cells": [
    {
      "cell_type": "markdown",
      "source": [
        "# Tarea Diagnóstico Capstone"
      ],
      "metadata": {
        "id": "OvsNGDbC8o1E"
      }
    },
    {
      "cell_type": "markdown",
      "source": [
        "Alumna: Marjorie Bascuñán González"
      ],
      "metadata": {
        "id": "QYzBiqlNsBCF"
      }
    },
    {
      "cell_type": "markdown",
      "source": [
        "Se importan las librerías a utilizar"
      ],
      "metadata": {
        "id": "k1YCTHt0nxK2"
      }
    },
    {
      "cell_type": "code",
      "source": [
        "import re\n",
        "import json\n",
        "import pandas as pd\n",
        "import numpy as np"
      ],
      "metadata": {
        "id": "q-Ar4Wil--78"
      },
      "execution_count": 3,
      "outputs": []
    },
    {
      "cell_type": "markdown",
      "source": [
        "## Lectura dataset\n"
      ],
      "metadata": {
        "id": "DqN3Fr4w80gi"
      }
    },
    {
      "cell_type": "markdown",
      "source": [
        "Se lee el dataset a través de un path dado, luego se convierte a DataFrame para utilizar los métodos de manejo de datos que ofrece Pandas."
      ],
      "metadata": {
        "id": "iXNDA3_jpKQe"
      }
    },
    {
      "cell_type": "code",
      "source": [
        "def read_dataset(path):\n",
        "  df = pd.read_json(path, lines=True)\n",
        "  return df"
      ],
      "metadata": {
        "id": "aQpNYVQjQg_l"
      },
      "execution_count": 10,
      "outputs": []
    },
    {
      "cell_type": "markdown",
      "source": [
        "## Ejercicio 1"
      ],
      "metadata": {
        "id": "oUDuj2kZ-RBC"
      }
    },
    {
      "cell_type": "markdown",
      "source": [
        "Se retornan los 10 tweets más retweeteados en forma de DataFrame."
      ],
      "metadata": {
        "id": "sQoU85xapaqA"
      }
    },
    {
      "cell_type": "code",
      "source": [
        "def most_retweeted(df):\n",
        "  return df.nlargest(n=10, columns='retweetCount')\n",
        "#most_retweeted()"
      ],
      "metadata": {
        "id": "XOxS1i0n-ch-"
      },
      "execution_count": 5,
      "outputs": []
    },
    {
      "cell_type": "markdown",
      "source": [
        "## Ejercicio 2"
      ],
      "metadata": {
        "id": "e7aye18N-eLw"
      }
    },
    {
      "cell_type": "markdown",
      "source": [
        "Se retorna una Serie de pandas con los username de los 10 usuarios que emitieron más tweets, acompañados de la cantidad de tweets que publicaron."
      ],
      "metadata": {
        "id": "LrCS8dV1ppR_"
      }
    },
    {
      "cell_type": "code",
      "source": [
        "def top_users(df):\n",
        "  return df['user'].apply(lambda x: x['username']).value_counts().head(10)\n",
        "#top_users()"
      ],
      "metadata": {
        "id": "MI-OdSfG-h4w"
      },
      "execution_count": 6,
      "outputs": []
    },
    {
      "cell_type": "markdown",
      "source": [
        "## Ejercicio 3"
      ],
      "metadata": {
        "id": "lDaSe7z5-iZs"
      }
    },
    {
      "cell_type": "markdown",
      "source": [
        "Se retorna una Serie de Pandas que contiene las 10 fechas donde se realizaron más tweets, acompañadas de la cantidad de publicaciones ese día."
      ],
      "metadata": {
        "id": "_J03a7S9qFw3"
      }
    },
    {
      "cell_type": "code",
      "source": [
        "def top_dias(df):\n",
        "  return df['date'].dt.date.value_counts().head(10)\n",
        "#top_dias()"
      ],
      "metadata": {
        "id": "Q4fZdbFj-mAm"
      },
      "execution_count": 7,
      "outputs": []
    },
    {
      "cell_type": "markdown",
      "source": [
        "## Ejercicio 4"
      ],
      "metadata": {
        "id": "DpfL3SuT-mob"
      }
    },
    {
      "cell_type": "markdown",
      "source": [
        "A través de una expresión RegEx se obtienen los hashtags de cada tweet, para luego contarlos y entregar una Serie de Pandas con los 10 hashtags más usados, y su frecuencia de uso."
      ],
      "metadata": {
        "id": "RAhdijBaqdGO"
      }
    },
    {
      "cell_type": "code",
      "source": [
        "def top_hashtags(df):\n",
        "  ht = df['renderedContent'].apply(lambda x: re.findall(r'(#+[a-zA-Z0-9A-Za-zÀ-ÖØ-öø-ʸ(_)]{1,})', x))\n",
        "  dif_ht = []\n",
        "  ht.apply(lambda x: dif_ht.extend(x))\n",
        "  return pd.Series(dif_ht).value_counts().head(10)\n",
        "#top_hashtags()"
      ],
      "metadata": {
        "id": "jpSKcNRM-p_c"
      },
      "execution_count": 8,
      "outputs": []
    },
    {
      "cell_type": "markdown",
      "source": [
        "Fuente RegEx hashtags: https://stackoverflow.com/questions/38506598/regular-expression-to-match-hashtag-but-not-hashtag-with-semicolon"
      ],
      "metadata": {
        "id": "71SeCYs0jLae"
      }
    },
    {
      "cell_type": "markdown",
      "source": [
        "## Main"
      ],
      "metadata": {
        "id": "45Gina9B-sRq"
      }
    },
    {
      "cell_type": "markdown",
      "source": [
        "Función principal que ejecuta el ejercicio que se le indique según el string \"ejercicio\" ('ej' + '\\<nro ejercicio\\>') y un path al dataset."
      ],
      "metadata": {
        "id": "5f2DOs1PrJyg"
      }
    },
    {
      "cell_type": "code",
      "source": [
        "def main(path, ejercicio):\n",
        "  df = read_dataset(path)\n",
        "  if ejercicio == 'ej1':\n",
        "    return most_retweeted(df)\n",
        "  elif ejercicio == 'ej2':\n",
        "    return top_users(df)\n",
        "  elif ejercicio == 'ej3':\n",
        "    return top_dias(df)\n",
        "  elif ejercicio == 'ej4':\n",
        "    return top_hashtags(df)\n",
        "  else:\n",
        "    print('Comando inválido')\n",
        "path = \"/content/drive/MyDrive/Colab Notebooks/farmers-protest-tweets-2021-03-5.json\"\n",
        "#main(path, 'ej1')"
      ],
      "metadata": {
        "id": "S0AvZIpu-vHk"
      },
      "execution_count": 12,
      "outputs": []
    }
  ]
}