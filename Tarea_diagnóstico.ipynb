{
  "cells": [
    {
      "cell_type": "markdown",
      "metadata": {
        "id": "OvsNGDbC8o1E"
      },
      "source": [
        "# Tarea Diagnóstico Capstone"
      ]
    },
    {
      "cell_type": "code",
      "execution_count": 2,
      "metadata": {
        "id": "q-Ar4Wil--78"
      },
      "outputs": [],
      "source": [
        "import re\n",
        "import json\n",
        "import pandas as pd\n",
        "import numpy as np"
      ]
    },
    {
      "cell_type": "markdown",
      "metadata": {
        "id": "DqN3Fr4w80gi"
      },
      "source": [
        "## Lectura dataset\n"
      ]
    },
    {
      "cell_type": "code",
      "execution_count": 3,
      "metadata": {
        "colab": {
          "base_uri": "https://localhost:8080/",
          "height": 201
        },
        "id": "FFRC23Uc8xVF",
        "outputId": "d6156a8a-1a52-4036-c8f8-89a746b08f81"
      },
      "outputs": [
        {
          "ename": "FileNotFoundError",
          "evalue": "ignored",
          "output_type": "error",
          "traceback": [
            "\u001b[0;31m---------------------------------------------------------------------------\u001b[0m",
            "\u001b[0;31mFileNotFoundError\u001b[0m                         Traceback (most recent call last)",
            "\u001b[0;32m<ipython-input-3-a86186ca6113>\u001b[0m in \u001b[0;36m<module>\u001b[0;34m()\u001b[0m\n\u001b[0;32m----> 1\u001b[0;31m \u001b[0;32mwith\u001b[0m \u001b[0mopen\u001b[0m\u001b[0;34m(\u001b[0m\u001b[0;34m\"farmers-protest-tweets-2021-03-5.json\"\u001b[0m\u001b[0;34m,\u001b[0m \u001b[0;34m\"r\"\u001b[0m\u001b[0;34m)\u001b[0m \u001b[0;32mas\u001b[0m \u001b[0md\u001b[0m\u001b[0;34m:\u001b[0m\u001b[0;34m\u001b[0m\u001b[0;34m\u001b[0m\u001b[0m\n\u001b[0m\u001b[1;32m      2\u001b[0m   \u001b[0mdata\u001b[0m \u001b[0;34m=\u001b[0m \u001b[0mjson\u001b[0m\u001b[0;34m.\u001b[0m\u001b[0mload\u001b[0m\u001b[0;34m(\u001b[0m\u001b[0md\u001b[0m\u001b[0;34m)\u001b[0m\u001b[0;34m\u001b[0m\u001b[0;34m\u001b[0m\u001b[0m\n\u001b[1;32m      3\u001b[0m   \u001b[0mprint\u001b[0m\u001b[0;34m(\u001b[0m\u001b[0mdata\u001b[0m\u001b[0;34m[\u001b[0m\u001b[0;36m1\u001b[0m\u001b[0;34m]\u001b[0m\u001b[0;34m)\u001b[0m\u001b[0;34m\u001b[0m\u001b[0;34m\u001b[0m\u001b[0m\n",
            "\u001b[0;31mFileNotFoundError\u001b[0m: [Errno 2] No such file or directory: 'farmers-protest-tweets-2021-03-5.json'"
          ]
        }
      ],
      "source": [
        "path = \"/content/drive/MyDrive/Colab Notebooks/farmers-protest-tweets-2021-03-5.json\"\n",
        "def read_dataset(path):\n",
        "  df = pd.read_json(path, lines=True)\n",
        "  return df"
      ]
    },
    {
      "cell_type": "markdown",
      "metadata": {
        "id": "e1iUPj9v-OiD"
      },
      "source": []
    },
    {
      "cell_type": "markdown",
      "metadata": {
        "id": "oUDuj2kZ-RBC"
      },
      "source": [
        "## Ejercicio 1"
      ]
    },
    {
      "cell_type": "code",
      "execution_count": null,
      "metadata": {
        "id": "XOxS1i0n-ch-"
      },
      "outputs": [],
      "source": [
        "def most_retweeted(df):\n",
        "  return df.nlargest(n=10, columns='retweetCount')\n",
        "#most_retweeted()"
      ]
    },
    {
      "cell_type": "markdown",
      "metadata": {
        "id": "e7aye18N-eLw"
      },
      "source": [
        "## Ejercicio 2"
      ]
    },
    {
      "cell_type": "code",
      "execution_count": null,
      "metadata": {
        "id": "MI-OdSfG-h4w"
      },
      "outputs": [],
      "source": [
        "def top_users(df):\n",
        "  return df['user'].apply(lambda x: x['username']).value_counts().head(10)\n",
        "#top_users()"
      ]
    },
    {
      "cell_type": "markdown",
      "metadata": {
        "id": "lDaSe7z5-iZs"
      },
      "source": [
        "## Ejercicio 3"
      ]
    },
    {
      "cell_type": "code",
      "execution_count": null,
      "metadata": {
        "id": "Q4fZdbFj-mAm"
      },
      "outputs": [],
      "source": [
        "def top_dias(df):\n",
        "  return df['date'].dt.date.value_counts().head(10)\n",
        "#top_dias()"
      ]
    },
    {
      "cell_type": "markdown",
      "metadata": {
        "id": "DpfL3SuT-mob"
      },
      "source": [
        "## Ejercicio 4"
      ]
    },
    {
      "cell_type": "code",
      "execution_count": null,
      "metadata": {
        "id": "jpSKcNRM-p_c"
      },
      "outputs": [],
      "source": [
        "def top_hashtags(df):\n",
        "  ht = df['renderedContent'].apply(lambda x: re.findall(r'(#+[a-zA-Z0-9A-Za-zÀ-ÖØ-öø-ʸ(_)]{1,})', x))\n",
        "  dif_ht = []\n",
        "  ht.apply(lambda x: dif_ht.extend(x))\n",
        "  return pd.Series(dif_ht).value_counts().head(10)\n",
        "#top_hashtags()"
      ]
    },
    {
      "cell_type": "markdown",
      "metadata": {
        "id": "45Gina9B-sRq"
      },
      "source": [
        "## Main"
      ]
    },
    {
      "cell_type": "code",
      "execution_count": null,
      "metadata": {
        "id": "S0AvZIpu-vHk"
      },
      "outputs": [],
      "source": [
        "def main(path, ejercicio):\n",
        "  df = read_dataset(path)\n",
        "  if ejercicio == 'ej1':\n",
        "    return most_retweeted(df)\n",
        "  elif ejercicio == 'ej2':\n",
        "    return top_users(df)\n",
        "  elif ejercicio == 'ej3':\n",
        "    return top_dias(df)\n",
        "  elif ejercicio == 'ej4':\n",
        "    return top_hashtags(df)\n",
        "  else:\n",
        "    print('Comando inválido')\n",
        "path = \"/content/drive/MyDrive/Colab Notebooks/farmers-protest-tweets-2021-03-5.json\"\n",
        "#main(path, 'ej1')"
      ]
    }
  ],
  "metadata": {
    "colab": {
      "collapsed_sections": [],
      "name": "Tarea diagnóstico.ipynb",
      "provenance": []
    },
    "kernelspec": {
      "display_name": "Python 3",
      "name": "python3"
    },
    "language_info": {
      "name": "python"
    }
  },
  "nbformat": 4,
  "nbformat_minor": 0
}
